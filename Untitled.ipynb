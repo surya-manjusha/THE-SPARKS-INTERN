{
 "cells": [
  {
   "cell_type": "markdown",
   "metadata": {},
   "source": [
    "# NAME:G.SURYA MANJUSHA\n"
   ]
  },
  {
   "cell_type": "markdown",
   "metadata": {},
   "source": [
    "# THE SPARKS FOUNDATION"
   ]
  },
  {
   "cell_type": "markdown",
   "metadata": {},
   "source": [
    "# GRIP@PROGRAM"
   ]
  },
  {
   "cell_type": "code",
   "execution_count": null,
   "metadata": {},
   "outputs": [],
   "source": [
    "import pandas as pd\n",
    "import argparse\n",
    "import cv2 as cv2\n",
    "import numpy as np"
   ]
  },
  {
   "cell_type": "code",
   "execution_count": null,
   "metadata": {},
   "outputs": [],
   "source": [
    "webcam = cv2.VideoCapture(0)\n"
   ]
  },
  {
   "cell_type": "code",
   "execution_count": null,
   "metadata": {},
   "outputs": [],
   "source": [
    "while(1):\n",
    "      \n",
    "    # Reading the video from the\n",
    "    # webcam in image frames\n",
    "    _, imageFrame = webcam.read()\n",
    "  \n",
    "    # Convert the imageFrame in \n",
    "    # BGR(RGB color space) to \n",
    "    # HSV(hue-saturation-value)\n",
    "    # color space\n",
    "    hsvFrame = cv2.cvtColor(imageFrame, cv2.COLOR_BGR2HSV)\n",
    "  \n",
    "    # Set range for red color and \n",
    "    # define mask\n",
    "    red_lower = np.array([136, 87, 111], np.uint8)\n",
    "    red_upper = np.array([180, 255, 255], np.uint8)\n",
    "    red_mask = cv2.inRange(hsvFrame, red_lower, red_upper)\n",
    "  \n",
    "    # Set range for green color and \n",
    "    # define mask\n",
    "    green_lower = np.array([25, 52, 72], np.uint8)\n",
    "    green_upper = np.array([102, 255, 255], np.uint8)\n",
    "    green_mask = cv2.inRange(hsvFrame, green_lower, green_upper)\n",
    "  \n",
    "    # Set range for blue color and\n",
    "    # define mask\n",
    "    blue_lower = np.array([94, 80, 2], np.uint8)\n",
    "    blue_upper = np.array([120, 255, 255], np.uint8)\n",
    "    blue_mask = cv2.inRange(hsvFrame, blue_lower, blue_upper)\n",
    "      \n",
    "    # Morphological Transform, Dilation\n",
    "    # for each color and bitwise_and operator\n",
    "    # between imageFrame and mask determines\n",
    "    # to detect only that particular color\n",
    "    kernal = np.ones((5, 5), \"uint8\")\n",
    "      \n",
    "    # For red color\n",
    "    red_mask = cv2.dilate(red_mask, kernal)\n",
    "    res_red = cv2.bitwise_and(imageFrame, imageFrame, \n",
    "                              mask = red_mask)\n",
    "      \n",
    "    # For green color\n",
    "    green_mask = cv2.dilate(green_mask, kernal)\n",
    "    res_green = cv2.bitwise_and(imageFrame, imageFrame,\n",
    "                                mask = green_mask)\n",
    "      \n",
    "    # For blue color\n",
    "    blue_mask = cv2.dilate(blue_mask, kernal)\n",
    "    res_blue = cv2.bitwise_and(imageFrame, imageFrame,\n",
    "                               mask = blue_mask)\n",
    "   \n",
    "    # Creating contour to track red color\n",
    "    contours, hierarchy = cv2.findContours(red_mask,\n",
    "                                           cv2.RETR_TREE,\n",
    "                                           cv2.CHAIN_APPROX_SIMPLE)\n",
    "      \n",
    "    for pic, contour in enumerate(contours):\n",
    "        area = cv2.contourArea(contour)\n",
    "        if(area > 300):\n",
    "            x, y, w, h = cv2.boundingRect(contour)\n",
    "            imageFrame = cv2.rectangle(imageFrame, (x, y), \n",
    "                                       (x + w, y + h), \n",
    "                                       (0, 0, 255), 2)\n",
    "              \n",
    "            cv2.putText(imageFrame, \"Red Colour\", (x, y),\n",
    "                        cv2.FONT_HERSHEY_SIMPLEX, 1.0,\n",
    "                        (0, 0, 255))    \n",
    "  \n",
    "    # Creating contour to track green color\n",
    "    contours, hierarchy = cv2.findContours(green_mask,\n",
    "                                           cv2.RETR_TREE,\n",
    "                                           cv2.CHAIN_APPROX_SIMPLE)\n",
    "      \n",
    "    for pic, contour in enumerate(contours):\n",
    "        area = cv2.contourArea(contour)\n",
    "        if(area > 300):\n",
    "            x, y, w, h = cv2.boundingRect(contour)\n",
    "            imageFrame = cv2.rectangle(imageFrame, (x, y), \n",
    "                                       (x + w, y + h),\n",
    "                                       (0, 255, 0), 2)\n",
    "              \n",
    "            cv2.putText(imageFrame, \"Green Colour\", (x, y),\n",
    "                        cv2.FONT_HERSHEY_SIMPLEX, \n",
    "                        1.0, (0, 255, 0))\n",
    "  \n",
    "    # Creating contour to track blue color\n",
    "    contours, hierarchy = cv2.findContours(blue_mask,\n",
    "                                           cv2.RETR_TREE,\n",
    "                                           cv2.CHAIN_APPROX_SIMPLE)\n",
    "    for pic, contour in enumerate(contours):\n",
    "        area = cv2.contourArea(contour)\n",
    "        if(area > 300):\n",
    "            x, y, w, h = cv2.boundingRect(contour)\n",
    "            imageFrame = cv2.rectangle(imageFrame, (x, y),\n",
    "                                       (x + w, y + h),\n",
    "                                       (255, 0, 0), 2)\n",
    "              \n",
    "            cv2.putText(imageFrame, \"Blue Colour\", (x, y),\n",
    "                        cv2.FONT_HERSHEY_SIMPLEX,\n",
    "                        1.0, (255, 0, 0))\n",
    "              \n",
    "    # Program Termination\n",
    "    cv2.imshow(\"Multiple Color Detection in Real-TIme\", imageFrame)\n",
    "    if cv2.waitKey(10) & 0xFF == ord('q'):\n",
    "        cap.release()\n",
    "        cv2.destroyAllWindows()\n",
    "        break"
   ]
  },
  {
   "cell_type": "code",
   "execution_count": null,
   "metadata": {},
   "outputs": [],
   "source": []
  },
  {
   "cell_type": "code",
   "execution_count": null,
   "metadata": {},
   "outputs": [],
   "source": []
  }
 ],
 "metadata": {
  "kernelspec": {
   "display_name": "Python 3",
   "language": "python",
   "name": "python3"
  },
  "language_info": {
   "codemirror_mode": {
    "name": "ipython",
    "version": 3
   },
   "file_extension": ".py",
   "mimetype": "text/x-python",
   "name": "python",
   "nbconvert_exporter": "python",
   "pygments_lexer": "ipython3",
   "version": "3.8.5"
  }
 },
 "nbformat": 4,
 "nbformat_minor": 4
}
